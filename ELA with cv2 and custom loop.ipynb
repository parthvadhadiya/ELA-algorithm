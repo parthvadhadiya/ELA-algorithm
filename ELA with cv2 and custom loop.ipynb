{
 "cells": [
  {
   "cell_type": "code",
   "execution_count": 1,
   "metadata": {
    "collapsed": true
   },
   "outputs": [],
   "source": [
    "%reload_ext cython\n",
    "#%load_ext cython"
   ]
  },
  {
   "cell_type": "code",
   "execution_count": 8,
   "metadata": {},
   "outputs": [],
   "source": [
    "#%%cython -a\n",
    "import cv2\n",
    "import numpy\n",
    "def ELA(image_name, resaved_name):\n",
    "    image = cv2.imread(image_name)\n",
    "    reimage = cv2.imread(resaved_name)\n",
    "    #image = cv2.cvtColor(image, cv2.COLOR_BGR2GRAY)\n",
    "    #reimage = cv2.cvtColor(reimage, cv2.COLOR_BGR2GRAY)\n",
    "    print(image.shape)\n",
    "    print(reimage.shape)\n",
    "    h = image.shape[0]\n",
    "    w = image.shape[1]\n",
    "    new = numpy.zeros(((h, w, 3)))\n",
    "    for i in range(0 , 3):\n",
    "        for x in range(0, h):\n",
    "            for y in range(0, w):\n",
    "                \n",
    "                new[x, y,i] = image[x,y,i] - reimage[x,y,i]\n",
    "    #print(new.shape)\n",
    "    ela = image_name + 'forela.png'\n",
    "    cv2.imwrite(ela,new)\n",
    "    return new\n"
   ]
  },
  {
   "cell_type": "code",
   "execution_count": 9,
   "metadata": {},
   "outputs": [
    {
     "name": "stdout",
     "output_type": "stream",
     "text": [
      "(240, 360, 3)\n",
      "(240, 360, 3)\n"
     ]
    },
    {
     "name": "stderr",
     "output_type": "stream",
     "text": [
      "/usr/local/lib/python3.5/dist-packages/ipykernel_launcher.py:18: RuntimeWarning: overflow encountered in ubyte_scalars\n"
     ]
    },
    {
     "data": {
      "text/plain": [
       "array([[[ 255.,    1.,  254.],\n",
       "        [ 255.,    1.,  254.],\n",
       "        [ 255.,    1.,  254.],\n",
       "        ..., \n",
       "        [ 253.,  254.,    1.],\n",
       "        [ 253.,  254.,    1.],\n",
       "        [ 253.,  254.,    1.]],\n",
       "\n",
       "       [[ 255.,    1.,  254.],\n",
       "        [ 255.,    1.,  254.],\n",
       "        [ 255.,    1.,  254.],\n",
       "        ..., \n",
       "        [ 253.,  254.,    1.],\n",
       "        [ 253.,  254.,    1.],\n",
       "        [ 253.,  254.,    1.]],\n",
       "\n",
       "       [[ 255.,    1.,  254.],\n",
       "        [ 255.,    1.,  254.],\n",
       "        [ 255.,    1.,  254.],\n",
       "        ..., \n",
       "        [ 253.,  254.,    1.],\n",
       "        [ 253.,  254.,    1.],\n",
       "        [ 253.,  254.,    1.]],\n",
       "\n",
       "       ..., \n",
       "       [[   0.,    0.,    2.],\n",
       "        [   0.,    0.,    2.],\n",
       "        [   0.,    0.,    2.],\n",
       "        ..., \n",
       "        [   1.,    0.,    2.],\n",
       "        [   1.,    0.,    2.],\n",
       "        [   1.,    0.,    2.]],\n",
       "\n",
       "       [[ 252.,    1.,    3.],\n",
       "        [ 252.,    1.,    3.],\n",
       "        [ 252.,    1.,    3.],\n",
       "        ..., \n",
       "        [   0.,    0.,    0.],\n",
       "        [   1.,    1.,    1.],\n",
       "        [   1.,    1.,    1.]],\n",
       "\n",
       "       [[ 249.,    1.,    2.],\n",
       "        [ 249.,    1.,    2.],\n",
       "        [ 249.,    1.,    2.],\n",
       "        ..., \n",
       "        [   0.,    0.,    0.],\n",
       "        [   1.,    1.,    1.],\n",
       "        [   2.,    2.,    2.]]])"
      ]
     },
     "execution_count": 9,
     "metadata": {},
     "output_type": "execute_result"
    }
   ],
   "source": [
    "filename = 'example.jpg'\n",
    "resaved = filename + '.resaved.jpg'\n",
    "\n",
    "\n",
    "#%timeit ELA(filename, resaved)\n",
    "ELA(filename, resaved)"
   ]
  },
  {
   "cell_type": "code",
   "execution_count": null,
   "metadata": {
    "collapsed": true
   },
   "outputs": [],
   "source": []
  }
 ],
 "metadata": {
  "kernelspec": {
   "display_name": "Python 3",
   "language": "python",
   "name": "python3"
  },
  "language_info": {
   "codemirror_mode": {
    "name": "ipython",
    "version": 3
   },
   "file_extension": ".py",
   "mimetype": "text/x-python",
   "name": "python",
   "nbconvert_exporter": "python",
   "pygments_lexer": "ipython3",
   "version": "3.5.2"
  }
 },
 "nbformat": 4,
 "nbformat_minor": 2
}
